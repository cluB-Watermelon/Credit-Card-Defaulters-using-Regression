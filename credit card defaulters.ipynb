{
 "cells": [
  {
   "cell_type": "code",
   "execution_count": 2,
   "id": "730fc66a",
   "metadata": {},
   "outputs": [],
   "source": [
    "import pandas as pd\n",
    "import numpy as np\n",
    "import matplotlib.pyplot as plt"
   ]
  },
  {
   "cell_type": "code",
   "execution_count": 3,
   "id": "ac827847",
   "metadata": {},
   "outputs": [],
   "source": [
    "df = pd.read_excel('data/default of credit card clients.xls')"
   ]
  },
  {
   "cell_type": "markdown",
   "id": "c24c55b6",
   "metadata": {},
   "source": [
    "#### Cleaning the data and bringing it into proper shape"
   ]
  },
  {
   "cell_type": "code",
   "execution_count": 5,
   "id": "161ff041",
   "metadata": {},
   "outputs": [
    {
     "data": {
      "text/html": [
       "<div>\n",
       "<style scoped>\n",
       "    .dataframe tbody tr th:only-of-type {\n",
       "        vertical-align: middle;\n",
       "    }\n",
       "\n",
       "    .dataframe tbody tr th {\n",
       "        vertical-align: top;\n",
       "    }\n",
       "\n",
       "    .dataframe thead th {\n",
       "        text-align: right;\n",
       "    }\n",
       "</style>\n",
       "<table border=\"1\" class=\"dataframe\">\n",
       "  <thead>\n",
       "    <tr style=\"text-align: right;\">\n",
       "      <th></th>\n",
       "      <th>Unnamed: 0</th>\n",
       "      <th>X1</th>\n",
       "      <th>X2</th>\n",
       "      <th>X3</th>\n",
       "      <th>X4</th>\n",
       "      <th>X5</th>\n",
       "      <th>X6</th>\n",
       "      <th>X7</th>\n",
       "      <th>X8</th>\n",
       "      <th>X9</th>\n",
       "      <th>...</th>\n",
       "      <th>X15</th>\n",
       "      <th>X16</th>\n",
       "      <th>X17</th>\n",
       "      <th>X18</th>\n",
       "      <th>X19</th>\n",
       "      <th>X20</th>\n",
       "      <th>X21</th>\n",
       "      <th>X22</th>\n",
       "      <th>X23</th>\n",
       "      <th>Y</th>\n",
       "    </tr>\n",
       "  </thead>\n",
       "  <tbody>\n",
       "    <tr>\n",
       "      <th>0</th>\n",
       "      <td>ID</td>\n",
       "      <td>LIMIT_BAL</td>\n",
       "      <td>SEX</td>\n",
       "      <td>EDUCATION</td>\n",
       "      <td>MARRIAGE</td>\n",
       "      <td>AGE</td>\n",
       "      <td>PAY_0</td>\n",
       "      <td>PAY_2</td>\n",
       "      <td>PAY_3</td>\n",
       "      <td>PAY_4</td>\n",
       "      <td>...</td>\n",
       "      <td>BILL_AMT4</td>\n",
       "      <td>BILL_AMT5</td>\n",
       "      <td>BILL_AMT6</td>\n",
       "      <td>PAY_AMT1</td>\n",
       "      <td>PAY_AMT2</td>\n",
       "      <td>PAY_AMT3</td>\n",
       "      <td>PAY_AMT4</td>\n",
       "      <td>PAY_AMT5</td>\n",
       "      <td>PAY_AMT6</td>\n",
       "      <td>default payment next month</td>\n",
       "    </tr>\n",
       "    <tr>\n",
       "      <th>1</th>\n",
       "      <td>1</td>\n",
       "      <td>20000</td>\n",
       "      <td>2</td>\n",
       "      <td>2</td>\n",
       "      <td>1</td>\n",
       "      <td>24</td>\n",
       "      <td>2</td>\n",
       "      <td>2</td>\n",
       "      <td>-1</td>\n",
       "      <td>-1</td>\n",
       "      <td>...</td>\n",
       "      <td>0</td>\n",
       "      <td>0</td>\n",
       "      <td>0</td>\n",
       "      <td>0</td>\n",
       "      <td>689</td>\n",
       "      <td>0</td>\n",
       "      <td>0</td>\n",
       "      <td>0</td>\n",
       "      <td>0</td>\n",
       "      <td>1</td>\n",
       "    </tr>\n",
       "    <tr>\n",
       "      <th>2</th>\n",
       "      <td>2</td>\n",
       "      <td>120000</td>\n",
       "      <td>2</td>\n",
       "      <td>2</td>\n",
       "      <td>2</td>\n",
       "      <td>26</td>\n",
       "      <td>-1</td>\n",
       "      <td>2</td>\n",
       "      <td>0</td>\n",
       "      <td>0</td>\n",
       "      <td>...</td>\n",
       "      <td>3272</td>\n",
       "      <td>3455</td>\n",
       "      <td>3261</td>\n",
       "      <td>0</td>\n",
       "      <td>1000</td>\n",
       "      <td>1000</td>\n",
       "      <td>1000</td>\n",
       "      <td>0</td>\n",
       "      <td>2000</td>\n",
       "      <td>1</td>\n",
       "    </tr>\n",
       "    <tr>\n",
       "      <th>3</th>\n",
       "      <td>3</td>\n",
       "      <td>90000</td>\n",
       "      <td>2</td>\n",
       "      <td>2</td>\n",
       "      <td>2</td>\n",
       "      <td>34</td>\n",
       "      <td>0</td>\n",
       "      <td>0</td>\n",
       "      <td>0</td>\n",
       "      <td>0</td>\n",
       "      <td>...</td>\n",
       "      <td>14331</td>\n",
       "      <td>14948</td>\n",
       "      <td>15549</td>\n",
       "      <td>1518</td>\n",
       "      <td>1500</td>\n",
       "      <td>1000</td>\n",
       "      <td>1000</td>\n",
       "      <td>1000</td>\n",
       "      <td>5000</td>\n",
       "      <td>0</td>\n",
       "    </tr>\n",
       "    <tr>\n",
       "      <th>4</th>\n",
       "      <td>4</td>\n",
       "      <td>50000</td>\n",
       "      <td>2</td>\n",
       "      <td>2</td>\n",
       "      <td>1</td>\n",
       "      <td>37</td>\n",
       "      <td>0</td>\n",
       "      <td>0</td>\n",
       "      <td>0</td>\n",
       "      <td>0</td>\n",
       "      <td>...</td>\n",
       "      <td>28314</td>\n",
       "      <td>28959</td>\n",
       "      <td>29547</td>\n",
       "      <td>2000</td>\n",
       "      <td>2019</td>\n",
       "      <td>1200</td>\n",
       "      <td>1100</td>\n",
       "      <td>1069</td>\n",
       "      <td>1000</td>\n",
       "      <td>0</td>\n",
       "    </tr>\n",
       "  </tbody>\n",
       "</table>\n",
       "<p>5 rows × 25 columns</p>\n",
       "</div>"
      ],
      "text/plain": [
       "  Unnamed: 0         X1   X2         X3        X4   X5     X6     X7     X8  \\\n",
       "0         ID  LIMIT_BAL  SEX  EDUCATION  MARRIAGE  AGE  PAY_0  PAY_2  PAY_3   \n",
       "1          1      20000    2          2         1   24      2      2     -1   \n",
       "2          2     120000    2          2         2   26     -1      2      0   \n",
       "3          3      90000    2          2         2   34      0      0      0   \n",
       "4          4      50000    2          2         1   37      0      0      0   \n",
       "\n",
       "      X9  ...        X15        X16        X17       X18       X19       X20  \\\n",
       "0  PAY_4  ...  BILL_AMT4  BILL_AMT5  BILL_AMT6  PAY_AMT1  PAY_AMT2  PAY_AMT3   \n",
       "1     -1  ...          0          0          0         0       689         0   \n",
       "2      0  ...       3272       3455       3261         0      1000      1000   \n",
       "3      0  ...      14331      14948      15549      1518      1500      1000   \n",
       "4      0  ...      28314      28959      29547      2000      2019      1200   \n",
       "\n",
       "        X21       X22       X23                           Y  \n",
       "0  PAY_AMT4  PAY_AMT5  PAY_AMT6  default payment next month  \n",
       "1         0         0         0                           1  \n",
       "2      1000         0      2000                           1  \n",
       "3      1000      1000      5000                           0  \n",
       "4      1100      1069      1000                           0  \n",
       "\n",
       "[5 rows x 25 columns]"
      ]
     },
     "execution_count": 5,
     "metadata": {},
     "output_type": "execute_result"
    }
   ],
   "source": [
    "df.head()"
   ]
  },
  {
   "cell_type": "code",
   "execution_count": 4,
   "id": "12076b4c",
   "metadata": {},
   "outputs": [],
   "source": [
    "# Fixing the column names\n",
    "\n",
    "columns = df.iloc[0, :]\n",
    "df.columns = columns\n",
    "df.drop([0, ], inplace = True)"
   ]
  },
  {
   "cell_type": "code",
   "execution_count": 5,
   "id": "a5ca7dbb",
   "metadata": {},
   "outputs": [
    {
     "name": "stdout",
     "output_type": "stream",
     "text": [
      "<class 'pandas.core.frame.DataFrame'>\n",
      "Int64Index: 30000 entries, 1 to 30000\n",
      "Data columns (total 25 columns):\n",
      " #   Column                      Non-Null Count  Dtype \n",
      "---  ------                      --------------  ----- \n",
      " 0   ID                          30000 non-null  object\n",
      " 1   LIMIT_BAL                   30000 non-null  object\n",
      " 2   SEX                         30000 non-null  object\n",
      " 3   EDUCATION                   30000 non-null  object\n",
      " 4   MARRIAGE                    30000 non-null  object\n",
      " 5   AGE                         30000 non-null  object\n",
      " 6   PAY_0                       30000 non-null  object\n",
      " 7   PAY_2                       30000 non-null  object\n",
      " 8   PAY_3                       30000 non-null  object\n",
      " 9   PAY_4                       30000 non-null  object\n",
      " 10  PAY_5                       30000 non-null  object\n",
      " 11  PAY_6                       30000 non-null  object\n",
      " 12  BILL_AMT1                   30000 non-null  object\n",
      " 13  BILL_AMT2                   30000 non-null  object\n",
      " 14  BILL_AMT3                   30000 non-null  object\n",
      " 15  BILL_AMT4                   30000 non-null  object\n",
      " 16  BILL_AMT5                   30000 non-null  object\n",
      " 17  BILL_AMT6                   30000 non-null  object\n",
      " 18  PAY_AMT1                    30000 non-null  object\n",
      " 19  PAY_AMT2                    30000 non-null  object\n",
      " 20  PAY_AMT3                    30000 non-null  object\n",
      " 21  PAY_AMT4                    30000 non-null  object\n",
      " 22  PAY_AMT5                    30000 non-null  object\n",
      " 23  PAY_AMT6                    30000 non-null  object\n",
      " 24  default payment next month  30000 non-null  object\n",
      "dtypes: object(25)\n",
      "memory usage: 6.0+ MB\n"
     ]
    }
   ],
   "source": [
    "df.info()"
   ]
  },
  {
   "cell_type": "code",
   "execution_count": 6,
   "id": "42661380",
   "metadata": {},
   "outputs": [],
   "source": [
    "# converting all the columns to float\n",
    "\n",
    "for col in columns:\n",
    "    df[col] = pd.to_numeric(df[col], errors = 'coerce')"
   ]
  },
  {
   "cell_type": "code",
   "execution_count": 7,
   "id": "25d43326",
   "metadata": {},
   "outputs": [
    {
     "name": "stdout",
     "output_type": "stream",
     "text": [
      "0                ID       LIMIT_BAL           SEX     EDUCATION      MARRIAGE  \\\n",
      "count  30000.000000    30000.000000  30000.000000  30000.000000  30000.000000   \n",
      "mean   15000.500000   167484.322667      1.603733      1.853133      1.551867   \n",
      "std     8660.398374   129747.661567      0.489129      0.790349      0.521970   \n",
      "min        1.000000    10000.000000      1.000000      0.000000      0.000000   \n",
      "25%     7500.750000    50000.000000      1.000000      1.000000      1.000000   \n",
      "50%    15000.500000   140000.000000      2.000000      2.000000      2.000000   \n",
      "75%    22500.250000   240000.000000      2.000000      2.000000      2.000000   \n",
      "max    30000.000000  1000000.000000      2.000000      6.000000      3.000000   \n",
      "\n",
      "0               AGE         PAY_0         PAY_2         PAY_3         PAY_4  \\\n",
      "count  30000.000000  30000.000000  30000.000000  30000.000000  30000.000000   \n",
      "mean      35.485500     -0.016700     -0.133767     -0.166200     -0.220667   \n",
      "std        9.217904      1.123802      1.197186      1.196868      1.169139   \n",
      "min       21.000000     -2.000000     -2.000000     -2.000000     -2.000000   \n",
      "25%       28.000000     -1.000000     -1.000000     -1.000000     -1.000000   \n",
      "50%       34.000000      0.000000      0.000000      0.000000      0.000000   \n",
      "75%       41.000000      0.000000      0.000000      0.000000      0.000000   \n",
      "max       79.000000      8.000000      8.000000      8.000000      8.000000   \n",
      "\n",
      "0      ...      BILL_AMT4      BILL_AMT5      BILL_AMT6       PAY_AMT1  \\\n",
      "count  ...   30000.000000   30000.000000   30000.000000   30000.000000   \n",
      "mean   ...   43262.948967   40311.400967   38871.760400    5663.580500   \n",
      "std    ...   64332.856134   60797.155770   59554.107537   16563.280354   \n",
      "min    ... -170000.000000  -81334.000000 -339603.000000       0.000000   \n",
      "25%    ...    2326.750000    1763.000000    1256.000000    1000.000000   \n",
      "50%    ...   19052.000000   18104.500000   17071.000000    2100.000000   \n",
      "75%    ...   54506.000000   50190.500000   49198.250000    5006.000000   \n",
      "max    ...  891586.000000  927171.000000  961664.000000  873552.000000   \n",
      "\n",
      "0          PAY_AMT2      PAY_AMT3       PAY_AMT4       PAY_AMT5  \\\n",
      "count  3.000000e+04   30000.00000   30000.000000   30000.000000   \n",
      "mean   5.921163e+03    5225.68150    4826.076867    4799.387633   \n",
      "std    2.304087e+04   17606.96147   15666.159744   15278.305679   \n",
      "min    0.000000e+00       0.00000       0.000000       0.000000   \n",
      "25%    8.330000e+02     390.00000     296.000000     252.500000   \n",
      "50%    2.009000e+03    1800.00000    1500.000000    1500.000000   \n",
      "75%    5.000000e+03    4505.00000    4013.250000    4031.500000   \n",
      "max    1.684259e+06  896040.00000  621000.000000  426529.000000   \n",
      "\n",
      "0           PAY_AMT6  default payment next month  \n",
      "count   30000.000000                30000.000000  \n",
      "mean     5215.502567                    0.221200  \n",
      "std     17777.465775                    0.415062  \n",
      "min         0.000000                    0.000000  \n",
      "25%       117.750000                    0.000000  \n",
      "50%      1500.000000                    0.000000  \n",
      "75%      4000.000000                    0.000000  \n",
      "max    528666.000000                    1.000000  \n",
      "\n",
      "[8 rows x 25 columns]\n"
     ]
    }
   ],
   "source": [
    "print(df.describe())"
   ]
  },
  {
   "cell_type": "markdown",
   "id": "7092f713",
   "metadata": {},
   "source": [
    "The target variable here is \"default payment next month\""
   ]
  },
  {
   "cell_type": "markdown",
   "id": "7312b3e2",
   "metadata": {},
   "source": [
    "Now, the data looks good enough and is clean enough to be used for model building."
   ]
  },
  {
   "cell_type": "markdown",
   "id": "ddbb25e3",
   "metadata": {},
   "source": [
    "### Creating the model"
   ]
  },
  {
   "cell_type": "markdown",
   "id": "7aa96d25",
   "metadata": {},
   "source": [
    "To start things off, lets make a model as is from the given data, and see what kind of accuracy we get."
   ]
  },
  {
   "cell_type": "code",
   "execution_count": 8,
   "id": "a6aaf421",
   "metadata": {},
   "outputs": [],
   "source": [
    "import sklearn\n",
    "from sklearn.linear_model import LogisticRegression\n",
    "from sklearn.model_selection import train_test_split"
   ]
  },
  {
   "cell_type": "code",
   "execution_count": 9,
   "id": "1dc5b0d6",
   "metadata": {},
   "outputs": [
    {
     "name": "stderr",
     "output_type": "stream",
     "text": [
      "C:\\Users\\Raghunandan\\anaconda3\\lib\\site-packages\\sklearn\\linear_model\\_logistic.py:763: ConvergenceWarning: lbfgs failed to converge (status=1):\n",
      "STOP: TOTAL NO. of ITERATIONS REACHED LIMIT.\n",
      "\n",
      "Increase the number of iterations (max_iter) or scale the data as shown in:\n",
      "    https://scikit-learn.org/stable/modules/preprocessing.html\n",
      "Please also refer to the documentation for alternative solver options:\n",
      "    https://scikit-learn.org/stable/modules/linear_model.html#logistic-regression\n",
      "  n_iter_i = _check_optimize_result(\n"
     ]
    },
    {
     "data": {
      "text/plain": [
       "LogisticRegression()"
      ]
     },
     "execution_count": 9,
     "metadata": {},
     "output_type": "execute_result"
    }
   ],
   "source": [
    "x = df[df.columns[1:24]]\n",
    "y = df['default payment next month']\n",
    "\n",
    "x_train, x_test, y_train, y_test = train_test_split(x, y, test_size = 0.2, random_state = 33)\n",
    "model1 = LogisticRegression()\n",
    "model1.fit(x_train, y_train)"
   ]
  },
  {
   "cell_type": "code",
   "execution_count": 10,
   "id": "8a130ec4",
   "metadata": {},
   "outputs": [
    {
     "name": "stdout",
     "output_type": "stream",
     "text": [
      "[[4678    0]\n",
      " [1322    0]]\n"
     ]
    }
   ],
   "source": [
    "# Lets check the accuracy now\n",
    "from sklearn.metrics import confusion_matrix\n",
    "\n",
    "y_preds_test = model1.predict(x_test)\n",
    "cm1 = confusion_matrix(y_test, y_preds_test)\n",
    "print(cm1)"
   ]
  },
  {
   "cell_type": "markdown",
   "id": "ee24ecc0",
   "metadata": {},
   "source": [
    "The model predicts all the records to not be defaulters. Althought he accuracy of this model is nearly 78%, we cannot use this model, as it has 0 specificity. So we have to attempt to fix this model.\n",
    "Lets try changing the threshold value to try and get higher specificity."
   ]
  },
  {
   "cell_type": "code",
   "execution_count": 11,
   "id": "89cb5774",
   "metadata": {},
   "outputs": [],
   "source": [
    "threshold = 0.4\n",
    "y_preds_prob = model1.predict_proba(x_test)\n",
    "y_pred_prob_1 = y_preds_prob[:, 1]\n",
    "y_preds_class_1 = y_pred_prob_1*0\n",
    "y_preds_class_1[y_pred_prob_1>threshold] = 1"
   ]
  },
  {
   "cell_type": "code",
   "execution_count": 12,
   "id": "65a05a5c",
   "metadata": {},
   "outputs": [
    {
     "name": "stdout",
     "output_type": "stream",
     "text": [
      "[[3859  819]\n",
      " [ 851  471]]\n"
     ]
    }
   ],
   "source": [
    "cm2 = confusion_matrix(y_test, y_preds_class_1)\n",
    "print(cm2)"
   ]
  },
  {
   "cell_type": "code",
   "execution_count": 13,
   "id": "e8b9956e",
   "metadata": {},
   "outputs": [
    {
     "name": "stdout",
     "output_type": "stream",
     "text": [
      "0.7216666666666667\n",
      "0.35627836611195157\n"
     ]
    }
   ],
   "source": [
    "accuracy_1 = (cm2[0, 0] + cm2[1, 1])/(cm2[0, 0] + cm2[0, 1] + cm2[1, 0] + cm2[1,1])\n",
    "specificity_1 = cm2[1, 1]/(cm2[1, 0] + cm2[1, 1])\n",
    "\n",
    "print(accuracy_1)\n",
    "print(specificity_1)"
   ]
  },
  {
   "cell_type": "markdown",
   "id": "69e572a7",
   "metadata": {},
   "source": [
    "We can see that by setting the value of threshold at 0.4, we get an accuracy of ~ 72.2%, and specificity has gone up from 0 to 35.63%."
   ]
  },
  {
   "cell_type": "markdown",
   "id": "7c31e427",
   "metadata": {},
   "source": [
    "This still leaves a lot of room for improvement of the model. The specificity and the overall accuracy of the model still need to be improved."
   ]
  },
  {
   "cell_type": "markdown",
   "id": "231efac3",
   "metadata": {},
   "source": [
    "### Improving the model"
   ]
  },
  {
   "cell_type": "markdown",
   "id": "da0bcba5",
   "metadata": {},
   "source": [
    "Now, lets try to see which features actually have a correlation with the target variable."
   ]
  },
  {
   "cell_type": "code",
   "execution_count": 46,
   "id": "714a054a",
   "metadata": {},
   "outputs": [
    {
     "data": {
      "text/plain": [
       "<AxesSubplot:xlabel='0', ylabel='0'>"
      ]
     },
     "execution_count": 46,
     "metadata": {},
     "output_type": "execute_result"
    },
    {
     "data": {
      "image/png": "[encoded data removed]",
      "text/plain": [
       "<Figure size 864x864 with 2 Axes>"
      ]
     },
     "metadata": {},
     "output_type": "display_data"
    }
   ],
   "source": [
    "import seaborn as sns\n",
    "\n",
    "sns.set(rc = {'figure.figsize' : (12, 12)})\n",
    "sns.heatmap(df.corr(method = 'spearman'))"
   ]
  },
  {
   "cell_type": "markdown",
   "id": "6d1102f3",
   "metadata": {},
   "source": [
    "As we can see from the above heatmap, all the 'BILL_AMT and PAY_AMT features have very little correlation with the target variable. The same can be said about the LIMIT_BAL feature. So, we can try dropping these features, and create the model again."
   ]
  },
  {
   "cell_type": "code",
   "execution_count": 23,
   "id": "49c1cfd4",
   "metadata": {},
   "outputs": [
    {
     "name": "stdout",
     "output_type": "stream",
     "text": [
      "Index(['ID', 'LIMIT_BAL', 'SEX', 'EDUCATION', 'MARRIAGE', 'AGE', 'PAY_0',\n",
      "       'PAY_2', 'PAY_3', 'PAY_4', 'PAY_5', 'PAY_6', 'BILL_AMT1', 'BILL_AMT2',\n",
      "       'BILL_AMT3', 'BILL_AMT4', 'BILL_AMT5', 'BILL_AMT6', 'PAY_AMT1',\n",
      "       'PAY_AMT2', 'PAY_AMT3', 'PAY_AMT4', 'PAY_AMT5', 'PAY_AMT6',\n",
      "       'default payment next month'],\n",
      "      dtype='object', name=0)\n"
     ]
    }
   ],
   "source": [
    "col_names = df.columns\n",
    "print(col_names)"
   ]
  },
  {
   "cell_type": "code",
   "execution_count": 24,
   "id": "856686c7",
   "metadata": {},
   "outputs": [],
   "source": [
    "x_new = df[col_names[2:12]]\n",
    "y_new = df['default payment next month']"
   ]
  },
  {
   "cell_type": "code",
   "execution_count": 25,
   "id": "4a5380b3",
   "metadata": {},
   "outputs": [
    {
     "name": "stderr",
     "output_type": "stream",
     "text": [
      "C:\\Users\\Raghunandan\\anaconda3\\lib\\site-packages\\sklearn\\linear_model\\_logistic.py:763: ConvergenceWarning: lbfgs failed to converge (status=1):\n",
      "STOP: TOTAL NO. of ITERATIONS REACHED LIMIT.\n",
      "\n",
      "Increase the number of iterations (max_iter) or scale the data as shown in:\n",
      "    https://scikit-learn.org/stable/modules/preprocessing.html\n",
      "Please also refer to the documentation for alternative solver options:\n",
      "    https://scikit-learn.org/stable/modules/linear_model.html#logistic-regression\n",
      "  n_iter_i = _check_optimize_result(\n"
     ]
    },
    {
     "data": {
      "text/plain": [
       "LogisticRegression()"
      ]
     },
     "execution_count": 25,
     "metadata": {},
     "output_type": "execute_result"
    }
   ],
   "source": [
    "x_train_new, x_test_new, y_train_new, y_test_new = train_test_split(x_new, y_new, test_size = 0.2, random_state = 25)\n",
    "model2 = LogisticRegression()\n",
    "model2.fit(x_train_new, y_train_new)"
   ]
  },
  {
   "cell_type": "code",
   "execution_count": 26,
   "id": "6503bc2d",
   "metadata": {},
   "outputs": [
    {
     "name": "stdout",
     "output_type": "stream",
     "text": [
      "[[4534  115]\n",
      " [1042  309]]\n"
     ]
    }
   ],
   "source": [
    "y_preds_test_new = model2.predict(x_test_new)\n",
    "cm3 = confusion_matrix(y_test_new, y_preds_test_new)\n",
    "print(cm3)"
   ]
  },
  {
   "cell_type": "code",
   "execution_count": 27,
   "id": "b696d66d",
   "metadata": {},
   "outputs": [
    {
     "name": "stdout",
     "output_type": "stream",
     "text": [
      "0.8071666666666667\n",
      "0.22871946706143598\n"
     ]
    }
   ],
   "source": [
    "accuracy_2 = (cm3[0, 0] + cm3[1, 1])/(cm3[0, 0] + cm3[0, 1] + cm3[1, 0] + cm3[1,1])\n",
    "specificity_2 = cm3[1, 1]/(cm3[1, 0] + cm3[1, 1])\n",
    "\n",
    "print(accuracy_2)\n",
    "print(specificity_2)"
   ]
  },
  {
   "cell_type": "markdown",
   "id": "2bb42374",
   "metadata": {},
   "source": [
    "We can see a much better accuracy and specificity in this case. Lets try changing the threshold to see if we can make this even better."
   ]
  },
  {
   "cell_type": "code",
   "execution_count": 35,
   "id": "8338a222",
   "metadata": {},
   "outputs": [],
   "source": [
    "threshold = 0.3\n",
    "y_preds_prob = model2.predict_proba(x_test_new)\n",
    "y_pred_prob_2 = y_preds_prob[:, 1]\n",
    "y_preds_class_2 = y_pred_prob_1*0\n",
    "y_preds_class_2[y_pred_prob_2>threshold] = 1"
   ]
  },
  {
   "cell_type": "code",
   "execution_count": 36,
   "id": "4897f0a7",
   "metadata": {},
   "outputs": [
    {
     "name": "stdout",
     "output_type": "stream",
     "text": [
      "[[4238  411]\n",
      " [ 724  627]]\n"
     ]
    }
   ],
   "source": [
    "cm4 = confusion_matrix(y_test_new, y_preds_class_2)\n",
    "print(cm4)"
   ]
  },
  {
   "cell_type": "code",
   "execution_count": 37,
   "id": "0deef5c5",
   "metadata": {},
   "outputs": [
    {
     "name": "stdout",
     "output_type": "stream",
     "text": [
      "0.8108333333333333\n",
      "0.46410066617320506\n"
     ]
    }
   ],
   "source": [
    "accuracy_3 = (cm4[0, 0] + cm4[1, 1])/(cm4[0, 0] + cm4[0, 1] + cm4[1, 0] + cm4[1,1])\n",
    "specificity_3 = cm4[1, 1]/(cm4[1, 0] + cm4[1, 1])\n",
    "\n",
    "print(accuracy_3)\n",
    "print(specificity_3)"
   ]
  },
  {
   "cell_type": "markdown",
   "id": "60ddf697",
   "metadata": {},
   "source": [
    "We can see that by setting the threshold at 0.3, we get slightly higher accuracy and much higher specificity than before."
   ]
  },
  {
   "cell_type": "markdown",
   "id": "983bbcd9",
   "metadata": {},
   "source": [
    "We can also compare this model with our previous one using an ROC curve."
   ]
  },
  {
   "cell_type": "markdown",
   "id": "0ce170d2",
   "metadata": {},
   "source": [
    "#### ROC Curve"
   ]
  },
  {
   "cell_type": "code",
   "execution_count": 38,
   "id": "d793daac",
   "metadata": {},
   "outputs": [],
   "source": [
    "from sklearn.metrics import roc_curve, auc"
   ]
  },
  {
   "cell_type": "code",
   "execution_count": 42,
   "id": "dc1d1c87",
   "metadata": {},
   "outputs": [
    {
     "data": {
      "image/png": "[encoded data removed]",
      "text/plain": [
       "<Figure size 720x720 with 1 Axes>"
      ]
     },
     "metadata": {},
     "output_type": "display_data"
    }
   ],
   "source": [
    "FP_rate_1, TP_rate_1, thresholds_1 = roc_curve(y_test, y_pred_prob_1)\n",
    "FP_rate_2, TP_rate_2, thresholds_2 = roc_curve(y_test_new, y_pred_prob_2)\n",
    "\n",
    "plt.figure(figsize = (10, 10))\n",
    "plt.plot(FP_rate_1, TP_rate_1, color = 'blue', label = 'Model-1')\n",
    "plt.plot(FP_rate_2, TP_rate_2, color = 'green', label = 'Model-2')\n",
    "plt.plot([0, 1], [0, 1], 'r--')\n",
    "plt.title('ROC Curve', fontsize = 15)\n",
    "plt.legend()\n",
    "plt.show()"
   ]
  },
  {
   "cell_type": "markdown",
   "id": "eda026b4",
   "metadata": {},
   "source": [
    "As we can see, model2, or our newer model, is much much better than the previous model. \n",
    "Lets also try and find the AUC for both the graphs."
   ]
  },
  {
   "cell_type": "code",
   "execution_count": 44,
   "id": "ac7b43cb",
   "metadata": {},
   "outputs": [
    {
     "name": "stdout",
     "output_type": "stream",
     "text": [
      "AUC for the first model is 0.6543044533946842 \n",
      "and for the second model is 0.7102828796145204\n"
     ]
    }
   ],
   "source": [
    "auc1 = auc(FP_rate_1, TP_rate_1)\n",
    "auc2 = auc(FP_rate_2, TP_rate_2)\n",
    "\n",
    "print('AUC for the first model is', auc1, '\\nand for the second model is', auc2)"
   ]
  },
  {
   "cell_type": "markdown",
   "id": "779cf7e4",
   "metadata": {},
   "source": [
    "As we can see, auc for the second model is closer to 1.0 as compared to the first model, we can declare the second model as being better than the first."
   ]
  }
 ],
 "metadata": {
  "kernelspec": {
   "display_name": "Python 3",
   "language": "python",
   "name": "python3"
  },
  "language_info": {
   "codemirror_mode": {
    "name": "ipython",
    "version": 3
   },
   "file_extension": ".py",
   "mimetype": "text/x-python",
   "name": "python",
   "nbconvert_exporter": "python",
   "pygments_lexer": "ipython3",
   "version": "3.8.8"
  }
 },
 "nbformat": 4,
 "nbformat_minor": 5
}
